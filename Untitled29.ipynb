{
  "nbformat": 4,
  "nbformat_minor": 0,
  "metadata": {
    "colab": {
      "provenance": [],
      "authorship_tag": "ABX9TyO22Sq8RN7fatWpSLfXSMyC",
      "include_colab_link": true
    },
    "kernelspec": {
      "name": "python3",
      "display_name": "Python 3"
    },
    "language_info": {
      "name": "python"
    }
  },
  "cells": [
    {
      "cell_type": "markdown",
      "metadata": {
        "id": "view-in-github",
        "colab_type": "text"
      },
      "source": [
        "<a href=\"https://colab.research.google.com/github/AnithaR2911/ETL-Pipeline/blob/main/Untitled29.ipynb\" target=\"_parent\"><img src=\"https://colab.research.google.com/assets/colab-badge.svg\" alt=\"Open In Colab\"/></a>"
      ]
    },
    {
      "cell_type": "code",
      "execution_count": 11,
      "metadata": {
        "colab": {
          "base_uri": "https://localhost:8080/"
        },
        "id": "NL0IsqGzOgFh",
        "outputId": "c9e843da-6dda-49a7-b977-b8f321597702"
      },
      "outputs": [
        {
          "output_type": "stream",
          "name": "stdout",
          "text": [
            "Total Units Sold is 80\n",
            "Difference between Category A and Category B is 20\n",
            "Ratio of units sold is 1.6666666666666667\n"
          ]
        }
      ],
      "source": [
        "#Task1 - Sales Data Summary\n",
        "Category_A = 50\n",
        "Category_B = 30\n",
        "total_sold=Category_A+Category_B\n",
        "print(\"Total Units Sold is\",total_sold)\n",
        "difference_Category=Category_A-Category_B\n",
        "print(\"Difference between Category A and Category B is\",difference_Category)\n",
        "ratio_Category=Category_A/Category_B\n",
        "print(\"Ratio of units sold is\",ratio_Category)"
      ]
    },
    {
      "cell_type": "code",
      "source": [
        "#Task2 - Customer Age Data\n",
        "Cust_name= \"John Doe\"\n",
        "Age=35\n",
        "print(f\"Dear {Cust_name},at {Age},you're eligible for our premium loyalty program\")"
      ],
      "metadata": {
        "colab": {
          "base_uri": "https://localhost:8080/"
        },
        "id": "yVc1q5E1THu3",
        "outputId": "5508f93d-7838-4d6f-95a1-7298756a180a"
      },
      "execution_count": 10,
      "outputs": [
        {
          "output_type": "stream",
          "name": "stdout",
          "text": [
            "Dear John Doe,at 35,you're eligible for our premium loyalty program\n"
          ]
        }
      ]
    },
    {
      "cell_type": "code",
      "source": [
        "#Task 3 - Product List Management\n",
        "product_price=[100,150,99,130,110,55,340,95,60,125]\n",
        "highest_price=max(product_price)\n",
        "lowest_price=min(product_price)\n",
        "print(\"The Highest price is\", highest_price)\n",
        "print(\"The Lowest price is\", lowest_price)\n",
        "new_product_list=[\"Sports\",\"Home\",\"Apparel\",\"Electroincs\",\"Stationery\"]\n",
        "new_product_price=[300,240,380,200,75]\n",
        "product_price.extend(new_product_price)\n",
        "print(\"The updated list is\",product_price)\n",
        ""
      ],
      "metadata": {
        "colab": {
          "base_uri": "https://localhost:8080/"
        },
        "id": "dM2uI_22UotS",
        "outputId": "63fe2e47-2729-4c52-cc9e-d7613a88dd4c"
      },
      "execution_count": 19,
      "outputs": [
        {
          "output_type": "stream",
          "name": "stdout",
          "text": [
            "The Highest price is 340\n",
            "The Lowest price is 55\n",
            "The updated list is [100, 150, 99, 130, 110, 55, 340, 95, 60, 125, 300, 240, 380, 200, 75]\n"
          ]
        }
      ]
    },
    {
      "cell_type": "code",
      "source": [
        "#Task 4 - Inventory lookup\n",
        "product={\"Name\": \"keyboard\",\n",
        "             \"SKU\": \"350-123\",\n",
        "             \"price\": \"500\",\n",
        "             \"category\":\"Elecronics\"}\n",
        "print(product[\"Name\"])\n",
        "print(product[\"SKU\"])\n"
      ],
      "metadata": {
        "colab": {
          "base_uri": "https://localhost:8080/"
        },
        "id": "r3aGikRmgD1z",
        "outputId": "a3c11a61-8333-4df2-f9bf-abdc8848af24"
      },
      "execution_count": 23,
      "outputs": [
        {
          "output_type": "stream",
          "name": "stdout",
          "text": [
            "keyboard\n",
            "350-123\n"
          ]
        }
      ]
    },
    {
      "cell_type": "code",
      "source": [
        "#Task 5 - Stock level Alert System\n",
        "stock=int(input(\"Enter the stock level:\"))\n",
        "if(stock < 5):\n",
        "   print(\"Reorder Now\")\n",
        "elif(stock > 5):\n",
        "   print(\"Stock is sufficient\")"
      ],
      "metadata": {
        "colab": {
          "base_uri": "https://localhost:8080/"
        },
        "id": "nXMaZVdSiA1u",
        "outputId": "e6594a3e-b1d3-4d6f-a2f7-255b44a3d64c"
      },
      "execution_count": 37,
      "outputs": [
        {
          "output_type": "stream",
          "name": "stdout",
          "text": [
            "Enter the stock level:10\n",
            "Stock is sufficient\n"
          ]
        }
      ]
    },
    {
      "cell_type": "code",
      "source": [
        "#Task 6 - Sales Report Formatting\n"
      ],
      "metadata": {
        "id": "NfGPWKhylCnu"
      },
      "execution_count": null,
      "outputs": []
    }
  ]
}